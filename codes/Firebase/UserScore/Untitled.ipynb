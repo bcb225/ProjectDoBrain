{
 "cells": [
  {
   "cell_type": "code",
   "execution_count": 2,
   "metadata": {},
   "outputs": [
    {
     "name": "stderr",
     "output_type": "stream",
     "text": [
      "Usage: \"\n",
      "\n",
      "ipykernel_launcher.py: error: no such option: -f\n"
     ]
    },
    {
     "ename": "SystemExit",
     "evalue": "2",
     "output_type": "error",
     "traceback": [
      "An exception has occurred, use %tb to see the full traceback.\n",
      "\u001b[0;31mSystemExit\u001b[0m\u001b[0;31m:\u001b[0m 2\n"
     ]
    },
    {
     "name": "stderr",
     "output_type": "stream",
     "text": [
      "/usr/local/lib/python3.6/dist-packages/IPython/core/interactiveshell.py:2969: UserWarning: To exit: use 'exit', 'quit', or Ctrl-D.\n",
      "  warn(\"To exit: use 'exit', 'quit', or Ctrl-D.\", stacklevel=1)\n"
     ]
    }
   ],
   "source": [
    "import sys\n",
    "from os.path import expanduser\n",
    "home = expanduser(\"~\")\n",
    "sys.path.append('{}/ProjectDoBrain/codes/Modules'.format(home))\n",
    "from rest_handler import RestHandler\n",
    "from json_handler import JsonHandler\n",
    "from csv_handler import CsvHandler\n",
    "\n",
    "def parse_commands(argv):\n",
    "    from optparse import OptionParser\n",
    "    parser = OptionParser('\"')\n",
    "    parser.add_option('-u', '--userScoreFile', dest='user_score_file')\n",
    "    parser.add_option('-p', '--personFile', dest='person_file')\n",
    "    parser.add_option('-m', '--mobileOS', dest='mobile_os')\n",
    "    parser.add_option('-j', '--jsonFile', dest='json_file')\n",
    "    options, otherjunk = parser.parse_args(argv)\n",
    "    return options\n",
    "\n",
    "options = parse_commands(sys.argv[1:])\n",
    "\n",
    "with open(options.person_file) as person_file:\n",
    "    person_list = person_file.read().splitlines()\n",
    "\n",
    "options = parse_commands(sys.argv[1:])\n",
    "\n",
    "header_list = ['person_id', 'level', 'game_level','clear_date_time','Memory','VelocityPerceptual','Numerical','Discrimination','SpacePerceptual','Inference','Organizing','Creative']\n",
    "\n",
    "rest_handler = RestHandler(mobile_os=options.mobile_os)\n",
    "json_handler = JsonHandler()\n",
    "csv_handler = CsvHandler(filepath=options.user_score_file,header_list=header_list)\n",
    "\n",
    "f = open(options.json_file, 'w')\n",
    "content_num = 0\n",
    "for person_id in person_list:\n",
    "    try:\n",
    "        json_result = rest_handler.get_user_score_data_by_person_id(person_id)\n",
    "    except:\n",
    "        continue\n",
    "    f.write(person_id+'\\t'+json_result+'\\n')\n",
    "    result_dict_list = json_handler.json_user_score_data_to_dict_list(json_result,person_id, content_num)\n",
    "    csv_handler.dict_to_csv(dict_list=result_dict_list)\n",
    "f.close()\n"
   ]
  },
  {
   "cell_type": "code",
   "execution_count": null,
   "metadata": {},
   "outputs": [],
   "source": []
  }
 ],
 "metadata": {
  "kernelspec": {
   "display_name": "Python 3",
   "language": "python",
   "name": "python3"
  },
  "language_info": {
   "codemirror_mode": {
    "name": "ipython",
    "version": 3
   },
   "file_extension": ".py",
   "mimetype": "text/x-python",
   "name": "python",
   "nbconvert_exporter": "python",
   "pygments_lexer": "ipython3",
   "version": "3.6.7"
  }
 },
 "nbformat": 4,
 "nbformat_minor": 2
}
